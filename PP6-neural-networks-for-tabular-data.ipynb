{
 "cells": [
  {
   "cell_type": "markdown",
   "id": "d87b40cd",
   "metadata": {
    "pycharm": {
     "name": "#%% md\n"
    }
   },
   "source": [
    "# PP6 neural networks for tabular data"
   ]
  },
  {
   "cell_type": "markdown",
   "id": "6a8ffd26",
   "metadata": {
    "collapsed": false,
    "pycharm": {
     "name": "#%% md\n"
    }
   },
   "source": [
    "<a href=\"https://colab.research.google.com/github/PauliusU/PP6-neural-networks-for-tabular-data/blob/master/PP6-neural-networks-for-tabular-data.ipynb\" target=\"_parent\"><img src=\"https://colab.research.google.com/assets/colab-badge.svg\" alt=\"Open In Colab\"/></a>\n",
    "[![Open in Google Colab](https://colab.research.google.com/assets/colab-badge.svg)](https://colab.research.google.com/github/PauliusU/PP6-neural-networks-for-tabular-data/blob/master/PP6-neural-networks-for-tabular-data.ipynb)"
   ]
  }
 ],
 "metadata": {
  "kernelspec": {
   "display_name": "Python 3.10.6 ('AI-PP5-deep-learning-intro-WpvXuOuE')",
   "language": "python",
   "name": "python3"
  },
  "language_info": {
   "codemirror_mode": {
    "name": "ipython",
    "version": 3
   },
   "file_extension": ".py",
   "mimetype": "text/x-python",
   "name": "python",
   "nbconvert_exporter": "python",
   "pygments_lexer": "ipython3",
   "version": "3.10.6"
  },
  "vscode": {
   "interpreter": {
    "hash": "f9ca47e1710a9bfdfa93ef71640a60bc6fa73c41d036d05953395e286c06b091"
   }
  }
 },
 "nbformat": 4,
 "nbformat_minor": 5
}